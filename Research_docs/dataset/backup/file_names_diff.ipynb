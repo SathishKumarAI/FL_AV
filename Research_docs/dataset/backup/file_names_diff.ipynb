{
 "cells": [
  {
   "cell_type": "code",
   "execution_count": 5,
   "metadata": {},
   "outputs": [
    {
     "data": {
      "text/plain": [
       "'C:\\\\Users\\\\SIU856522160\\\\Downloads'"
      ]
     },
     "execution_count": 5,
     "metadata": {},
     "output_type": "execute_result"
    }
   ],
   "source": [
    "import os\n",
    "import json\n",
    "# Change to a different directory\n",
    "os.chdir(r'C:\\Users\\SIU856522160\\Downloads\\\\')\n",
    "# Get the new default path\n",
    "os.getcwd()"
   ]
  },
  {
   "cell_type": "code",
   "execution_count": 6,
   "metadata": {},
   "outputs": [],
   "source": [
    "folder_name = \"train\"\n",
    "# Load image information from the JSON file\n",
    "with open(rf\".\\\\bdd100k\\labels\\bdd100k_labels_images_{folder_name}.json\", \"r\") as json_file:\n",
    "    image_data = json.load(json_file)\n",
    "\n",
    "# Specify the folder path\n",
    "folder_path = rf\".\\\\100k\\{folder_name}\"\n"
   ]
  },
  {
   "cell_type": "markdown",
   "metadata": {},
   "source": []
  },
  {
   "cell_type": "code",
   "execution_count": null,
   "metadata": {},
   "outputs": [],
   "source": []
  },
  {
   "cell_type": "markdown",
   "metadata": {},
   "source": [
    "# files names diff\n"
   ]
  },
  {
   "cell_type": "code",
   "execution_count": 7,
   "metadata": {},
   "outputs": [
    {
     "name": "stdout",
     "output_type": "stream",
     "text": [
      "Comparison complete. Check 'output.txt' for results.\n"
     ]
    }
   ],
   "source": [
    "# List text files in the folder\n",
    "folder_files = [file for file in os.listdir(folder_path) if file.endswith(\".txt\")]\n",
    "\n",
    "# Create a list to store filenames not found in the folder\n",
    "not_found_files = []\n",
    "\n",
    "# Compare filenames and read text files\n",
    "for image_info in image_data:\n",
    "    filename = image_info.get(\"name\", \"\")\n",
    "    if filename and filename.endswith(\".jpg\"):  # Assuming images have .jpg extensions\n",
    "        corresponding_text_filename = os.path.splitext(filename)[0] + \".txt\"\n",
    "        if corresponding_text_filename not in folder_files:\n",
    "            not_found_files.append(corresponding_text_filename)\n",
    "\n",
    "# Print or save the filenames not found in the folder\n",
    "with open(\"output_train.txt\", \"w\") as output_file:\n",
    "    if not_found_files:\n",
    "        output_file.write(\"Text filenames not found in the folder:\\n\")\n",
    "        for filename in not_found_files:\n",
    "            output_file.write(f\"{filename}\\n\")\n",
    "    else:\n",
    "        output_file.write(\"All text filenames found in the folder.\")\n",
    "\n",
    "print(\"Comparison complete. Check 'output.txt' for results.\")\n"
   ]
  },
  {
   "cell_type": "code",
   "execution_count": null,
   "metadata": {},
   "outputs": [],
   "source": []
  },
  {
   "cell_type": "markdown",
   "metadata": {},
   "source": [
    "# check filenames"
   ]
  },
  {
   "cell_type": "code",
   "execution_count": 8,
   "metadata": {},
   "outputs": [
    {
     "name": "stdout",
     "output_type": "stream",
     "text": [
      "File 'b1c81faa-c80764c5.txt' not found in the folder.\n"
     ]
    }
   ],
   "source": [
    "# Enter the filename you want to check\n",
    "filename_to_check = \"b1c81faa-c80764c5.txt\"  # Replace with the actual filename you want to check\n",
    "\n",
    "# List files in the folder\n",
    "folder_files = os.listdir(folder_path)\n",
    "\n",
    "# Check if the filename exists in the folder\n",
    "if filename_to_check in folder_files:\n",
    "    print(f\"File '{filename_to_check}' found in the folder.\")\n",
    "else:\n",
    "    print(f\"File '{filename_to_check}' not found in the folder.\")\n"
   ]
  }
 ],
 "metadata": {
  "kernelspec": {
   "display_name": "venv",
   "language": "python",
   "name": "python3"
  },
  "language_info": {
   "codemirror_mode": {
    "name": "ipython",
    "version": 3
   },
   "file_extension": ".py",
   "mimetype": "text/x-python",
   "name": "python",
   "nbconvert_exporter": "python",
   "pygments_lexer": "ipython3",
   "version": "3.10.9"
  },
  "orig_nbformat": 4
 },
 "nbformat": 4,
 "nbformat_minor": 2
}
