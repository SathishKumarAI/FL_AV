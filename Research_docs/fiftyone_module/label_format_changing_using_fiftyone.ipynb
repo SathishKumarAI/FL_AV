{
 "cells": [
  {
   "attachments": {},
   "cell_type": "markdown",
   "metadata": {},
   "source": [
    "## using this module we will convert the json format file to yoloV5 format."
   ]
  },
  {
   "cell_type": "code",
   "execution_count": 1,
   "metadata": {},
   "outputs": [
    {
     "name": "stdout",
     "output_type": "stream",
     "text": [
      "Collecting globox\n",
      "  Downloading globox-2.1.1-py3-none-any.whl (32 kB)\n",
      "Requirement already satisfied: numpy in c:\\users\\siu856522160\\anaconda3\\envs\\venv\\lib\\site-packages (from globox) (1.22.3)\n",
      "Collecting rich\n",
      "  Downloading rich-13.3.2-py3-none-any.whl (238 kB)\n",
      "     -------------------------------------- 238.7/238.7 kB 7.4 MB/s eta 0:00:00\n",
      "Requirement already satisfied: tqdm in c:\\users\\siu856522160\\anaconda3\\envs\\venv\\lib\\site-packages (from globox) (4.64.1)\n",
      "Collecting markdown-it-py<3.0.0,>=2.2.0\n",
      "  Downloading markdown_it_py-2.2.0-py3-none-any.whl (84 kB)\n",
      "     ---------------------------------------- 84.5/84.5 kB 4.6 MB/s eta 0:00:00\n",
      "Requirement already satisfied: pygments<3.0.0,>=2.13.0 in c:\\users\\siu856522160\\anaconda3\\envs\\venv\\lib\\site-packages (from rich->globox) (2.14.0)\n",
      "Requirement already satisfied: colorama in c:\\users\\siu856522160\\anaconda3\\envs\\venv\\lib\\site-packages (from tqdm->globox) (0.4.6)\n",
      "Collecting mdurl~=0.1\n",
      "  Using cached mdurl-0.1.2-py3-none-any.whl (10.0 kB)\n",
      "Installing collected packages: mdurl, markdown-it-py, rich, globox\n",
      "Successfully installed globox-2.1.1 markdown-it-py-2.2.0 mdurl-0.1.2 rich-13.3.2\n"
     ]
    }
   ],
   "source": [
    "!pip install globox"
   ]
  },
  {
   "cell_type": "code",
   "execution_count": 3,
   "metadata": {},
   "outputs": [
    {
     "name": "stdout",
     "output_type": "stream",
     "text": [
      "Requirement already satisfied: pip in c:\\users\\siu856522160\\anaconda3\\envs\\venv\\lib\\site-packages (22.3.1)\n",
      "Collecting pip\n",
      "  Downloading pip-23.0.1-py3-none-any.whl (2.1 MB)\n",
      "     ---------------------------------------- 2.1/2.1 MB 26.2 MB/s eta 0:00:00\n",
      "Requirement already satisfied: setuptools in c:\\users\\siu856522160\\anaconda3\\envs\\venv\\lib\\site-packages (67.4.0)\n",
      "Collecting setuptools\n",
      "  Downloading setuptools-67.6.0-py3-none-any.whl (1.1 MB)\n",
      "     ---------------------------------------- 1.1/1.1 MB 67.4 MB/s eta 0:00:00\n",
      "Requirement already satisfied: wheel in c:\\users\\siu856522160\\anaconda3\\envs\\venv\\lib\\site-packages (0.38.4)\n",
      "Collecting wheel\n",
      "  Downloading wheel-0.40.0-py3-none-any.whl (64 kB)\n",
      "     ---------------------------------------- 64.5/64.5 kB ? eta 0:00:00\n"
     ]
    },
    {
     "name": "stderr",
     "output_type": "stream",
     "text": [
      "ERROR: To modify pip, please run the following command:\n",
      "C:\\Users\\SIU856522160\\Anaconda3\\envs\\venv\\python.exe -m pip install --upgrade pip setuptools wheel\n"
     ]
    },
    {
     "name": "stdout",
     "output_type": "stream",
     "text": [
      "Requirement already satisfied: fiftyone in c:\\users\\siu856522160\\anaconda3\\envs\\venv\\lib\\site-packages (0.20.0)\n",
      "Requirement already satisfied: Deprecated in c:\\users\\siu856522160\\anaconda3\\envs\\venv\\lib\\site-packages (from fiftyone) (1.2.13)\n",
      "Requirement already satisfied: matplotlib in c:\\users\\siu856522160\\anaconda3\\envs\\venv\\lib\\site-packages (from fiftyone) (3.7.0)\n",
      "Requirement already satisfied: argcomplete in c:\\users\\siu856522160\\anaconda3\\envs\\venv\\lib\\site-packages (from fiftyone) (3.0.4)\n",
      "Requirement already satisfied: sseclient-py<2,>=1.7.2 in c:\\users\\siu856522160\\anaconda3\\envs\\venv\\lib\\site-packages (from fiftyone) (1.7.2)\n",
      "Requirement already satisfied: fiftyone-db<0.5,>=0.4 in c:\\users\\siu856522160\\anaconda3\\envs\\venv\\lib\\site-packages (from fiftyone) (0.4.0)\n",
      "Requirement already satisfied: cachetools in c:\\users\\siu856522160\\anaconda3\\envs\\venv\\lib\\site-packages (from fiftyone) (5.3.0)\n",
      "Requirement already satisfied: ftfy in c:\\users\\siu856522160\\anaconda3\\envs\\venv\\lib\\site-packages (from fiftyone) (6.1.1)\n",
      "Requirement already satisfied: Pillow>=6.2 in c:\\users\\siu856522160\\anaconda3\\envs\\venv\\lib\\site-packages (from fiftyone) (9.4.0)\n",
      "Requirement already satisfied: starlette==0.20.4 in c:\\users\\siu856522160\\anaconda3\\envs\\venv\\lib\\site-packages (from fiftyone) (0.20.4)\n",
      "Requirement already satisfied: eventlet in c:\\users\\siu856522160\\anaconda3\\envs\\venv\\lib\\site-packages (from fiftyone) (0.33.3)\n",
      "Requirement already satisfied: retrying in c:\\users\\siu856522160\\anaconda3\\envs\\venv\\lib\\site-packages (from fiftyone) (1.3.4)\n",
      "Requirement already satisfied: aiofiles in c:\\users\\siu856522160\\anaconda3\\envs\\venv\\lib\\site-packages (from fiftyone) (23.1.0)\n",
      "Requirement already satisfied: numpy in c:\\users\\siu856522160\\anaconda3\\envs\\venv\\lib\\site-packages (from fiftyone) (1.22.3)\n",
      "Requirement already satisfied: voxel51-eta<0.9,>=0.8.4 in c:\\users\\siu856522160\\anaconda3\\envs\\venv\\lib\\site-packages (from fiftyone) (0.8.4)\n",
      "Requirement already satisfied: plotly>=4.14 in c:\\users\\siu856522160\\anaconda3\\envs\\venv\\lib\\site-packages (from fiftyone) (5.13.1)\n",
      "Requirement already satisfied: packaging in c:\\users\\siu856522160\\anaconda3\\envs\\venv\\lib\\site-packages (from fiftyone) (23.0)\n",
      "Requirement already satisfied: pymongo>=3.12 in c:\\users\\siu856522160\\anaconda3\\envs\\venv\\lib\\site-packages (from fiftyone) (4.3.3)\n",
      "Requirement already satisfied: universal-analytics-python3<2,>=1.0.1 in c:\\users\\siu856522160\\anaconda3\\envs\\venv\\lib\\site-packages (from fiftyone) (1.1.1)\n",
      "Requirement already satisfied: hypercorn>=0.13.2 in c:\\users\\siu856522160\\anaconda3\\envs\\venv\\lib\\site-packages (from fiftyone) (0.14.3)\n",
      "Requirement already satisfied: kaleido in c:\\users\\siu856522160\\anaconda3\\envs\\venv\\lib\\site-packages (from fiftyone) (0.2.1)\n",
      "Requirement already satisfied: tabulate in c:\\users\\siu856522160\\anaconda3\\envs\\venv\\lib\\site-packages (from fiftyone) (0.9.0)\n",
      "Requirement already satisfied: mongoengine==0.24.2 in c:\\users\\siu856522160\\anaconda3\\envs\\venv\\lib\\site-packages (from fiftyone) (0.24.2)\n",
      "Requirement already satisfied: opencv-python-headless in c:\\users\\siu856522160\\anaconda3\\envs\\venv\\lib\\site-packages (from fiftyone) (4.7.0.72)\n",
      "Requirement already satisfied: pytz in c:\\users\\siu856522160\\anaconda3\\envs\\venv\\lib\\site-packages (from fiftyone) (2022.7.1)\n",
      "Requirement already satisfied: psutil in c:\\users\\siu856522160\\anaconda3\\envs\\venv\\lib\\site-packages (from fiftyone) (5.9.0)\n",
      "Requirement already satisfied: motor>=2.5 in c:\\users\\siu856522160\\anaconda3\\envs\\venv\\lib\\site-packages (from fiftyone) (3.1.1)\n",
      "Requirement already satisfied: pandas in c:\\users\\siu856522160\\anaconda3\\envs\\venv\\lib\\site-packages (from fiftyone) (1.5.3)\n",
      "Requirement already satisfied: future in c:\\users\\siu856522160\\anaconda3\\envs\\venv\\lib\\site-packages (from fiftyone) (0.18.3)\n",
      "Requirement already satisfied: sse-starlette<1,>=0.10.3 in c:\\users\\siu856522160\\anaconda3\\envs\\venv\\lib\\site-packages (from fiftyone) (0.10.3)\n",
      "Requirement already satisfied: fiftyone-brain<0.12,>=0.11 in c:\\users\\siu856522160\\anaconda3\\envs\\venv\\lib\\site-packages (from fiftyone) (0.11.0)\n",
      "Requirement already satisfied: regex in c:\\users\\siu856522160\\anaconda3\\envs\\venv\\lib\\site-packages (from fiftyone) (2023.3.23)\n",
      "Requirement already satisfied: strawberry-graphql==0.138.1 in c:\\users\\siu856522160\\anaconda3\\envs\\venv\\lib\\site-packages (from fiftyone) (0.138.1)\n",
      "Requirement already satisfied: PyYAML in c:\\users\\siu856522160\\anaconda3\\envs\\venv\\lib\\site-packages (from fiftyone) (6.0)\n",
      "Requirement already satisfied: xmltodict in c:\\users\\siu856522160\\anaconda3\\envs\\venv\\lib\\site-packages (from fiftyone) (0.13.0)\n",
      "Requirement already satisfied: pprintpp in c:\\users\\siu856522160\\anaconda3\\envs\\venv\\lib\\site-packages (from fiftyone) (0.4.0)\n",
      "Requirement already satisfied: dacite<1.8.0,>=1.6.0 in c:\\users\\siu856522160\\anaconda3\\envs\\venv\\lib\\site-packages (from fiftyone) (1.7.0)\n",
      "Requirement already satisfied: boto3 in c:\\users\\siu856522160\\anaconda3\\envs\\venv\\lib\\site-packages (from fiftyone) (1.26.99)\n",
      "Requirement already satisfied: ndjson in c:\\users\\siu856522160\\anaconda3\\envs\\venv\\lib\\site-packages (from fiftyone) (0.3.1)\n",
      "Requirement already satisfied: scikit-image in c:\\users\\siu856522160\\anaconda3\\envs\\venv\\lib\\site-packages (from fiftyone) (0.20.0)\n",
      "Requirement already satisfied: Jinja2>=3 in c:\\users\\siu856522160\\anaconda3\\envs\\venv\\lib\\site-packages (from fiftyone) (3.1.2)\n",
      "Requirement already satisfied: scikit-learn in c:\\users\\siu856522160\\anaconda3\\envs\\venv\\lib\\site-packages (from fiftyone) (1.2.2)\n",
      "Requirement already satisfied: setuptools in c:\\users\\siu856522160\\anaconda3\\envs\\venv\\lib\\site-packages (from fiftyone) (67.4.0)\n",
      "Requirement already satisfied: anyio<5,>=3.4.0 in c:\\users\\siu856522160\\anaconda3\\envs\\venv\\lib\\site-packages (from starlette==0.20.4->fiftyone) (3.6.2)\n",
      "Requirement already satisfied: graphql-core<3.3.0,>=3.2.0 in c:\\users\\siu856522160\\anaconda3\\envs\\venv\\lib\\site-packages (from strawberry-graphql==0.138.1->fiftyone) (3.2.3)\n",
      "Requirement already satisfied: python-dateutil<3.0.0,>=2.7.0 in c:\\users\\siu856522160\\anaconda3\\envs\\venv\\lib\\site-packages (from strawberry-graphql==0.138.1->fiftyone) (2.8.2)\n",
      "Requirement already satisfied: typing_extensions<5.0.0,>=3.7.4 in c:\\users\\siu856522160\\anaconda3\\envs\\venv\\lib\\site-packages (from strawberry-graphql==0.138.1->fiftyone) (4.5.0)\n",
      "Requirement already satisfied: scipy>=1.2.0 in c:\\users\\siu856522160\\anaconda3\\envs\\venv\\lib\\site-packages (from fiftyone-brain<0.12,>=0.11->fiftyone) (1.10.1)\n",
      "Requirement already satisfied: wsproto>=0.14.0 in c:\\users\\siu856522160\\anaconda3\\envs\\venv\\lib\\site-packages (from hypercorn>=0.13.2->fiftyone) (1.2.0)\n",
      "Requirement already satisfied: h11 in c:\\users\\siu856522160\\anaconda3\\envs\\venv\\lib\\site-packages (from hypercorn>=0.13.2->fiftyone) (0.14.0)\n",
      "Requirement already satisfied: toml in c:\\users\\siu856522160\\anaconda3\\envs\\venv\\lib\\site-packages (from hypercorn>=0.13.2->fiftyone) (0.10.2)\n",
      "Requirement already satisfied: priority in c:\\users\\siu856522160\\anaconda3\\envs\\venv\\lib\\site-packages (from hypercorn>=0.13.2->fiftyone) (2.0.0)\n",
      "Requirement already satisfied: h2>=3.1.0 in c:\\users\\siu856522160\\anaconda3\\envs\\venv\\lib\\site-packages (from hypercorn>=0.13.2->fiftyone) (4.1.0)\n",
      "Requirement already satisfied: MarkupSafe>=2.0 in c:\\users\\siu856522160\\anaconda3\\envs\\venv\\lib\\site-packages (from Jinja2>=3->fiftyone) (2.1.2)\n",
      "Requirement already satisfied: tenacity>=6.2.0 in c:\\users\\siu856522160\\anaconda3\\envs\\venv\\lib\\site-packages (from plotly>=4.14->fiftyone) (8.2.2)\n",
      "Requirement already satisfied: dnspython<3.0.0,>=1.16.0 in c:\\users\\siu856522160\\anaconda3\\envs\\venv\\lib\\site-packages (from pymongo>=3.12->fiftyone) (2.3.0)\n",
      "Requirement already satisfied: httpx>=0.10.0 in c:\\users\\siu856522160\\anaconda3\\envs\\venv\\lib\\site-packages (from universal-analytics-python3<2,>=1.0.1->fiftyone) (0.23.3)\n",
      "Requirement already satisfied: urllib3 in c:\\users\\siu856522160\\anaconda3\\envs\\venv\\lib\\site-packages (from voxel51-eta<0.9,>=0.8.4->fiftyone) (1.26.14)\n",
      "Requirement already satisfied: sortedcontainers in c:\\users\\siu856522160\\anaconda3\\envs\\venv\\lib\\site-packages (from voxel51-eta<0.9,>=0.8.4->fiftyone) (2.4.0)\n",
      "Requirement already satisfied: six in c:\\users\\siu856522160\\anaconda3\\envs\\venv\\lib\\site-packages (from voxel51-eta<0.9,>=0.8.4->fiftyone) (1.16.0)\n",
      "Requirement already satisfied: dill in c:\\users\\siu856522160\\anaconda3\\envs\\venv\\lib\\site-packages (from voxel51-eta<0.9,>=0.8.4->fiftyone) (0.3.6)\n",
      "Requirement already satisfied: glob2 in c:\\users\\siu856522160\\anaconda3\\envs\\venv\\lib\\site-packages (from voxel51-eta<0.9,>=0.8.4->fiftyone) (0.7)\n",
      "Requirement already satisfied: requests in c:\\users\\siu856522160\\anaconda3\\envs\\venv\\lib\\site-packages (from voxel51-eta<0.9,>=0.8.4->fiftyone) (2.28.2)\n",
      "Requirement already satisfied: patool in c:\\users\\siu856522160\\anaconda3\\envs\\venv\\lib\\site-packages (from voxel51-eta<0.9,>=0.8.4->fiftyone) (1.12)\n",
      "Requirement already satisfied: tzlocal in c:\\users\\siu856522160\\anaconda3\\envs\\venv\\lib\\site-packages (from voxel51-eta<0.9,>=0.8.4->fiftyone) (4.3)\n",
      "Requirement already satisfied: s3transfer<0.7.0,>=0.6.0 in c:\\users\\siu856522160\\anaconda3\\envs\\venv\\lib\\site-packages (from boto3->fiftyone) (0.6.0)\n",
      "Requirement already satisfied: botocore<1.30.0,>=1.29.99 in c:\\users\\siu856522160\\anaconda3\\envs\\venv\\lib\\site-packages (from boto3->fiftyone) (1.29.99)\n",
      "Requirement already satisfied: jmespath<2.0.0,>=0.7.1 in c:\\users\\siu856522160\\anaconda3\\envs\\venv\\lib\\site-packages (from boto3->fiftyone) (1.0.1)\n",
      "Requirement already satisfied: wrapt<2,>=1.10 in c:\\users\\siu856522160\\anaconda3\\envs\\venv\\lib\\site-packages (from Deprecated->fiftyone) (1.15.0)\n",
      "Requirement already satisfied: greenlet>=0.3 in c:\\users\\siu856522160\\anaconda3\\envs\\venv\\lib\\site-packages (from eventlet->fiftyone) (2.0.2)\n",
      "Requirement already satisfied: wcwidth>=0.2.5 in c:\\users\\siu856522160\\anaconda3\\envs\\venv\\lib\\site-packages (from ftfy->fiftyone) (0.2.6)\n",
      "Requirement already satisfied: kiwisolver>=1.0.1 in c:\\users\\siu856522160\\anaconda3\\envs\\venv\\lib\\site-packages (from matplotlib->fiftyone) (1.4.4)\n",
      "Requirement already satisfied: pyparsing>=2.3.1 in c:\\users\\siu856522160\\anaconda3\\envs\\venv\\lib\\site-packages (from matplotlib->fiftyone) (3.0.9)\n",
      "Requirement already satisfied: contourpy>=1.0.1 in c:\\users\\siu856522160\\anaconda3\\envs\\venv\\lib\\site-packages (from matplotlib->fiftyone) (1.0.7)\n",
      "Requirement already satisfied: cycler>=0.10 in c:\\users\\siu856522160\\anaconda3\\envs\\venv\\lib\\site-packages (from matplotlib->fiftyone) (0.11.0)\n",
      "Requirement already satisfied: fonttools>=4.22.0 in c:\\users\\siu856522160\\anaconda3\\envs\\venv\\lib\\site-packages (from matplotlib->fiftyone) (4.38.0)\n",
      "Requirement already satisfied: tifffile>=2019.7.26 in c:\\users\\siu856522160\\anaconda3\\envs\\venv\\lib\\site-packages (from scikit-image->fiftyone) (2023.3.21)\n",
      "Requirement already satisfied: imageio>=2.4.1 in c:\\users\\siu856522160\\anaconda3\\envs\\venv\\lib\\site-packages (from scikit-image->fiftyone) (2.26.1)\n",
      "Requirement already satisfied: PyWavelets>=1.1.1 in c:\\users\\siu856522160\\anaconda3\\envs\\venv\\lib\\site-packages (from scikit-image->fiftyone) (1.4.1)\n",
      "Requirement already satisfied: lazy_loader>=0.1 in c:\\users\\siu856522160\\anaconda3\\envs\\venv\\lib\\site-packages (from scikit-image->fiftyone) (0.2)\n",
      "Requirement already satisfied: networkx>=2.8 in c:\\users\\siu856522160\\anaconda3\\envs\\venv\\lib\\site-packages (from scikit-image->fiftyone) (3.0)\n",
      "Requirement already satisfied: threadpoolctl>=2.0.0 in c:\\users\\siu856522160\\anaconda3\\envs\\venv\\lib\\site-packages (from scikit-learn->fiftyone) (3.1.0)\n",
      "Requirement already satisfied: joblib>=1.1.1 in c:\\users\\siu856522160\\anaconda3\\envs\\venv\\lib\\site-packages (from scikit-learn->fiftyone) (1.2.0)\n",
      "Requirement already satisfied: idna>=2.8 in c:\\users\\siu856522160\\anaconda3\\envs\\venv\\lib\\site-packages (from anyio<5,>=3.4.0->starlette==0.20.4->fiftyone) (3.4)\n",
      "Requirement already satisfied: sniffio>=1.1 in c:\\users\\siu856522160\\anaconda3\\envs\\venv\\lib\\site-packages (from anyio<5,>=3.4.0->starlette==0.20.4->fiftyone) (1.3.0)\n",
      "Requirement already satisfied: hpack<5,>=4.0 in c:\\users\\siu856522160\\anaconda3\\envs\\venv\\lib\\site-packages (from h2>=3.1.0->hypercorn>=0.13.2->fiftyone) (4.0.0)\n",
      "Requirement already satisfied: hyperframe<7,>=6.0 in c:\\users\\siu856522160\\anaconda3\\envs\\venv\\lib\\site-packages (from h2>=3.1.0->hypercorn>=0.13.2->fiftyone) (6.0.1)\n",
      "Requirement already satisfied: httpcore<0.17.0,>=0.15.0 in c:\\users\\siu856522160\\anaconda3\\envs\\venv\\lib\\site-packages (from httpx>=0.10.0->universal-analytics-python3<2,>=1.0.1->fiftyone) (0.16.3)\n",
      "Requirement already satisfied: rfc3986[idna2008]<2,>=1.3 in c:\\users\\siu856522160\\anaconda3\\envs\\venv\\lib\\site-packages (from httpx>=0.10.0->universal-analytics-python3<2,>=1.0.1->fiftyone) (1.5.0)\n",
      "Requirement already satisfied: certifi in c:\\users\\siu856522160\\anaconda3\\envs\\venv\\lib\\site-packages (from httpx>=0.10.0->universal-analytics-python3<2,>=1.0.1->fiftyone) (2022.12.7)\n",
      "Requirement already satisfied: charset-normalizer<4,>=2 in c:\\users\\siu856522160\\anaconda3\\envs\\venv\\lib\\site-packages (from requests->voxel51-eta<0.9,>=0.8.4->fiftyone) (3.0.1)\n",
      "Requirement already satisfied: pytz-deprecation-shim in c:\\users\\siu856522160\\anaconda3\\envs\\venv\\lib\\site-packages (from tzlocal->voxel51-eta<0.9,>=0.8.4->fiftyone) (0.1.0.post0)\n",
      "Requirement already satisfied: tzdata in c:\\users\\siu856522160\\anaconda3\\envs\\venv\\lib\\site-packages (from tzlocal->voxel51-eta<0.9,>=0.8.4->fiftyone) (2023.2)\n"
     ]
    }
   ],
   "source": [
    "!pip install --upgrade pip setuptools wheel\n",
    "!pip install fiftyone"
   ]
  },
  {
   "cell_type": "code",
   "execution_count": 4,
   "metadata": {},
   "outputs": [
    {
     "name": "stdout",
     "output_type": "stream",
     "text": [
      "Split 'train' already prepared\n",
      "Split 'validation' already prepared\n",
      "Split 'test' already prepared\n",
      "Loading existing dataset 'bdd100k'. To reload from disk, either delete the existing dataset or provide a custom `dataset_name` to use\n"
     ]
    }
   ],
   "source": [
    "import fiftyone as fo\n",
    "import fiftyone.zoo as foz\n",
    "\n",
    "# The path to the source files that you manually downloaded\n",
    "source_dir = r\"C:\\Users\\SIU856522160\\Downloads\\json_formatting_of_labels\\data_labelling\"\n",
    "\n",
    "dataset = foz.load_zoo_dataset(\n",
    "    \"bdd100k\",\n",
    "    # split=\"validation\",\n",
    "    source_dir=source_dir,\n",
    "    copy_files=False,\n",
    ")"
   ]
  },
  {
   "cell_type": "code",
   "execution_count": 5,
   "metadata": {},
   "outputs": [
    {
     "name": "stdout",
     "output_type": "stream",
     "text": [
      "Connected to FiftyOne on port 5151 at localhost.\n",
      "If you are not connecting to a remote session, you may need to start a new session and specify a port\n"
     ]
    },
    {
     "data": {
      "text/html": [
       "\n",
       "        <iframe\n",
       "            width=\"100%\"\n",
       "            height=\"800\"\n",
       "            src=\"http://localhost:5151/?notebook=True&subscription=0c361bd6-2707-4d88-ad30-09f665330aa1\"\n",
       "            frameborder=\"0\"\n",
       "            allowfullscreen\n",
       "            \n",
       "        ></iframe>\n",
       "        "
      ],
      "text/plain": [
       "<IPython.lib.display.IFrame at 0x1900afb7550>"
      ]
     },
     "metadata": {},
     "output_type": "display_data"
    }
   ],
   "source": [
    "session = fo.launch_app(dataset)"
   ]
  },
  {
   "cell_type": "code",
   "execution_count": 6,
   "metadata": {},
   "outputs": [],
   "source": [
    "import fiftyone as fo\n",
    "\n",
    "# The Dataset or DatasetView containing the samples you wish to export\n",
    "dataset_or_view = dataset\n",
    "\n",
    "# The directory to which to write the exported dataset\n",
    "export_dir = r\"C:\\Users\\SIU856522160\\Downloads\\export_folder_backup\""
   ]
  },
  {
   "cell_type": "code",
   "execution_count": null,
   "metadata": {},
   "outputs": [],
   "source": []
  },
  {
   "cell_type": "code",
   "execution_count": null,
   "metadata": {},
   "outputs": [],
   "source": []
  },
  {
   "cell_type": "code",
   "execution_count": 7,
   "metadata": {},
   "outputs": [
    {
     "name": "stdout",
     "output_type": "stream",
     "text": [
      " 100% |███████████| 100000/100000 [25.5m elapsed, 0s remaining, 170.0 samples/s]      \n"
     ]
    }
   ],
   "source": [
    "# The type of dataset to export\n",
    "# Any subclass of `fiftyone.types.Dataset` is supported\n",
    "\n",
    "#Uncomment what ever format you wish to conver to\n",
    "\n",
    "#YOLOV5\n",
    "dataset_type = fo.types.YOLOv5Dataset  # for example\n",
    "\n",
    "\n",
    "# Export the dataset\n",
    "dataset_or_view.export(\n",
    "    export_dir=export_dir,\n",
    "    dataset_type=dataset_type,\n",
    "    # export_media=\"copy\",\n",
    "    # label_field=label_field,\n",
    ")"
   ]
  }
 ],
 "metadata": {
  "kernelspec": {
   "display_name": "surya",
   "language": "python",
   "name": "python3"
  },
  "language_info": {
   "codemirror_mode": {
    "name": "ipython",
    "version": 3
   },
   "file_extension": ".py",
   "mimetype": "text/x-python",
   "name": "python",
   "nbconvert_exporter": "python",
   "pygments_lexer": "ipython3",
   "version": "3.10.9"
  },
  "orig_nbformat": 4,
  "vscode": {
   "interpreter": {
    "hash": "e856f405fdeb5ad2a983528d73c9bcb4ad79edc78b482b4b121cdb17476e380c"
   }
  }
 },
 "nbformat": 4,
 "nbformat_minor": 2
}
