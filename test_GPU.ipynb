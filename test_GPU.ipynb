{
  "cells": [
    {
      "cell_type": "markdown",
      "metadata": {
        "colab_type": "text",
        "id": "view-in-github"
      },
      "source": [
        "<a href=\"https://colab.research.google.com/github/SathishKumarAI/FL_AV/blob/check_copy_1/test_GPU.ipynb\" target=\"_parent\"><img src=\"https://colab.research.google.com/assets/colab-badge.svg\" alt=\"Open In Colab\"/></a>"
      ]
    },
    {
      "cell_type": "code",
      "execution_count": null,
      "metadata": {
        "id": "RTzRPi6cuHEJ"
      },
      "outputs": [],
      "source": []
    },
    {
      "cell_type": "code",
      "execution_count": 1,
      "metadata": {
        "id": "qDcKFJpiMfxA"
      },
      "outputs": [],
      "source": [
        "import os\n",
        "import logging\n",
        "import subprocess\n",
        "import sys\n",
        "\n",
        "# 1) Create a logs directory if it doesn't exist\n",
        "LOG_DIR = \"logs\"\n",
        "if not os.path.exists(LOG_DIR):\n",
        "    os.makedirs(LOG_DIR)\n",
        "\n",
        "# 2) Configure logging to write to logs/installation.log\n",
        "logging.basicConfig(\n",
        "    filename=os.path.join(LOG_DIR, \"installation.log\"),\n",
        "    level=logging.INFO,\n",
        "    format=\"%(asctime)s - %(levelname)s - %(message)s\"\n",
        ")\n",
        "\n",
        "def run_command(command: str):\n",
        "    \"\"\"\n",
        "    Run a shell command in Python, log its usage and status.\n",
        "    \"\"\"\n",
        "    logging.info(f\"Running command: {command}\")\n",
        "    try:\n",
        "        subprocess.check_call(command, shell=True)\n",
        "        logging.info(\"Command completed successfully.\")\n",
        "    except subprocess.CalledProcessError as e:\n",
        "        logging.error(f\"Command failed with error: {str(e)}\")\n",
        "        # Exit or raise an exception depending on your preference.\n",
        "        sys.exit(1)"
      ]
    },
    {
      "cell_type": "code",
      "execution_count": 2,
      "metadata": {
        "id": "B-600SSEMivw"
      },
      "outputs": [],
      "source": [
        "# # 3) Clone GitHub repository if not already present\n",
        "# FL_AV_PATH = \"/content/FL_AV\"\n",
        "# if not os.path.exists(FL_AV_PATH):\n",
        "#     logging.info(\"Repository not found. Cloning...\")\n",
        "#     run_command(\"git clone https://github.com/SathishKumar9866/FL_AV.git\")\n",
        "\n",
        "#     # Checkout to check_copy_1 branch\n",
        "#     run_command(\"cd /content/FL_AV && git checkout check_copy_1\")\n",
        "# else:\n",
        "#     logging.info(\"Repository already present. Skipping clone.\")\n",
        "\n",
        "#     # Ensure we are on the correct branch\n",
        "#     run_command(\"cd /content/FL_AV && git fetch && git checkout check_copy_1\")\n"
      ]
    },
    {
      "cell_type": "code",
      "execution_count": 3,
      "metadata": {
        "colab": {
          "base_uri": "https://localhost:8080/"
        },
        "id": "ZeDJd1GGMp3J",
        "outputId": "5f199e5a-cc86-44fb-bda7-d37c9981adea"
      },
      "outputs": [],
      "source": [
        "# # 4) List files in the directory\n",
        "# try:\n",
        "#     files = os.listdir(FL_AV_PATH)\n",
        "#     print(\"Files in /content/FL_AV/:\", files)\n",
        "#     logging.info(f\"Files in /content/FL_AV/: {files}\")\n",
        "# except FileNotFoundError:\n",
        "#     logging.error(f\"Directory {FL_AV_PATH} not found after clone attempt.\")\n",
        "#     sys.exit(1)\n"
      ]
    },
    {
      "cell_type": "code",
      "execution_count": 4,
      "metadata": {
        "id": "3EwjZdGiMtd9"
      },
      "outputs": [],
      "source": [
        "# 5) Install necessary dependencies\n",
        "run_command(\"pip install tensorflow keras\")\n",
        "run_command(\"pip install torch torchvision\")\n",
        "run_command(\"pip install -U flwr\")\n",
        "# run_command(\"pip install -U 'flwr[simulation]'\")\n",
        "run_command(\"pip install torch==2.0.0 torchvision==0.15.0+cu117 --index-url https://download.pytorch.org/whl/cu117\")"
      ]
    },
    {
      "cell_type": "code",
      "execution_count": 5,
      "metadata": {
        "id": "UkxeK9s4M0J2"
      },
      "outputs": [],
      "source": [
        "# 6) Check GPU information\n",
        "run_command(\"nvidia-smi\")\n",
        "\n",
        "# 7) Check CUDA version\n",
        "run_command(\"nvcc --version\")"
      ]
    },
    {
      "cell_type": "code",
      "execution_count": 6,
      "metadata": {
        "colab": {
          "base_uri": "https://localhost:8080/"
        },
        "id": "BZ2oS2ZwWwQ9",
        "outputId": "3e8fe9e1-e4f4-48ab-dde3-e7ea1a9d7de0"
      },
      "outputs": [
        {
          "name": "stdout",
          "output_type": "stream",
          "text": [
            "GPU is available!\n"
          ]
        },
        {
          "name": "stderr",
          "output_type": "stream",
          "text": [
            "\n",
            "A module that was compiled using NumPy 1.x cannot be run in\n",
            "NumPy 2.0.2 as it may crash. To support both 1.x and 2.x\n",
            "versions of NumPy, modules must be compiled with NumPy 2.0.\n",
            "Some module may need to rebuild instead e.g. with 'pybind11>=2.12'.\n",
            "\n",
            "If you are a user of the module, the easiest solution will be to\n",
            "downgrade to 'numpy<2' or try to upgrade the affected module.\n",
            "We expect that some modules will need time to support NumPy 2.\n",
            "\n",
            "Traceback (most recent call last):  File \"c:\\Users\\sathish\\anaconda3\\envs\\flower_test\\lib\\runpy.py\", line 196, in _run_module_as_main\n",
            "    return _run_code(code, main_globals, None,\n",
            "  File \"c:\\Users\\sathish\\anaconda3\\envs\\flower_test\\lib\\runpy.py\", line 86, in _run_code\n",
            "    exec(code, run_globals)\n",
            "  File \"c:\\Users\\sathish\\anaconda3\\envs\\flower_test\\lib\\site-packages\\ipykernel_launcher.py\", line 18, in <module>\n",
            "    app.launch_new_instance()\n",
            "  File \"c:\\Users\\sathish\\anaconda3\\envs\\flower_test\\lib\\site-packages\\traitlets\\config\\application.py\", line 1075, in launch_instance\n",
            "    app.start()\n",
            "  File \"c:\\Users\\sathish\\anaconda3\\envs\\flower_test\\lib\\site-packages\\ipykernel\\kernelapp.py\", line 739, in start\n",
            "    self.io_loop.start()\n",
            "  File \"c:\\Users\\sathish\\anaconda3\\envs\\flower_test\\lib\\site-packages\\tornado\\platform\\asyncio.py\", line 205, in start\n",
            "    self.asyncio_loop.run_forever()\n",
            "  File \"c:\\Users\\sathish\\anaconda3\\envs\\flower_test\\lib\\asyncio\\base_events.py\", line 600, in run_forever\n",
            "    self._run_once()\n",
            "  File \"c:\\Users\\sathish\\anaconda3\\envs\\flower_test\\lib\\asyncio\\base_events.py\", line 1896, in _run_once\n",
            "    handle._run()\n",
            "  File \"c:\\Users\\sathish\\anaconda3\\envs\\flower_test\\lib\\asyncio\\events.py\", line 80, in _run\n",
            "    self._context.run(self._callback, *self._args)\n",
            "  File \"c:\\Users\\sathish\\anaconda3\\envs\\flower_test\\lib\\site-packages\\ipykernel\\kernelbase.py\", line 545, in dispatch_queue\n",
            "    await self.process_one()\n",
            "  File \"c:\\Users\\sathish\\anaconda3\\envs\\flower_test\\lib\\site-packages\\ipykernel\\kernelbase.py\", line 534, in process_one\n",
            "    await dispatch(*args)\n",
            "  File \"c:\\Users\\sathish\\anaconda3\\envs\\flower_test\\lib\\site-packages\\ipykernel\\kernelbase.py\", line 437, in dispatch_shell\n",
            "    await result\n",
            "  File \"c:\\Users\\sathish\\anaconda3\\envs\\flower_test\\lib\\site-packages\\ipykernel\\ipkernel.py\", line 362, in execute_request\n",
            "    await super().execute_request(stream, ident, parent)\n",
            "  File \"c:\\Users\\sathish\\anaconda3\\envs\\flower_test\\lib\\site-packages\\ipykernel\\kernelbase.py\", line 778, in execute_request\n",
            "    reply_content = await reply_content\n",
            "  File \"c:\\Users\\sathish\\anaconda3\\envs\\flower_test\\lib\\site-packages\\ipykernel\\ipkernel.py\", line 449, in do_execute\n",
            "    res = shell.run_cell(\n",
            "  File \"c:\\Users\\sathish\\anaconda3\\envs\\flower_test\\lib\\site-packages\\ipykernel\\zmqshell.py\", line 549, in run_cell\n",
            "    return super().run_cell(*args, **kwargs)\n",
            "  File \"c:\\Users\\sathish\\anaconda3\\envs\\flower_test\\lib\\site-packages\\IPython\\core\\interactiveshell.py\", line 3077, in run_cell\n",
            "    result = self._run_cell(\n",
            "  File \"c:\\Users\\sathish\\anaconda3\\envs\\flower_test\\lib\\site-packages\\IPython\\core\\interactiveshell.py\", line 3132, in _run_cell\n",
            "    result = runner(coro)\n",
            "  File \"c:\\Users\\sathish\\anaconda3\\envs\\flower_test\\lib\\site-packages\\IPython\\core\\async_helpers.py\", line 128, in _pseudo_sync_runner\n",
            "    coro.send(None)\n",
            "  File \"c:\\Users\\sathish\\anaconda3\\envs\\flower_test\\lib\\site-packages\\IPython\\core\\interactiveshell.py\", line 3336, in run_cell_async\n",
            "    has_raised = await self.run_ast_nodes(code_ast.body, cell_name,\n",
            "  File \"c:\\Users\\sathish\\anaconda3\\envs\\flower_test\\lib\\site-packages\\IPython\\core\\interactiveshell.py\", line 3519, in run_ast_nodes\n",
            "    if await self.run_code(code, result, async_=asy):\n",
            "  File \"c:\\Users\\sathish\\anaconda3\\envs\\flower_test\\lib\\site-packages\\IPython\\core\\interactiveshell.py\", line 3579, in run_code\n",
            "    exec(code_obj, self.user_global_ns, self.user_ns)\n",
            "  File \"C:\\Users\\sathish\\AppData\\Local\\Temp\\ipykernel_23416\\3347106619.py\", line 4, in <module>\n",
            "    device = torch.device(\"cuda\")\n",
            "C:\\Users\\sathish\\AppData\\Local\\Temp\\ipykernel_23416\\3347106619.py:4: UserWarning: Failed to initialize NumPy: _ARRAY_API not found (Triggered internally at ..\\torch\\csrc\\utils\\tensor_numpy.cpp:84.)\n",
            "  device = torch.device(\"cuda\")\n"
          ]
        }
      ],
      "source": [
        "# # 8) Check if GPU is available in PyTorch\n",
        "import torch\n",
        "if torch.cuda.is_available():\n",
        "    device = torch.device(\"cuda\")\n",
        "    print(\"GPU is available!\")\n",
        "    logging.info(\"GPU is available!\")\n",
        "else:\n",
        "    device = torch.device(\"cpu\")\n",
        "    print(\"GPU not available, using CPU.\")\n",
        "    logging.info(\"GPU not available, using CPU.\")\n"
      ]
    },
    {
      "cell_type": "code",
      "execution_count": null,
      "metadata": {
        "id": "W6xKgCEBuG4x"
      },
      "outputs": [],
      "source": [
        "# Total successful conversions: 1160902\n",
        "# Total skipped labels due to missing 'box2d': 0\n",
        "# Total unrecognized categories: 2\n",
        "# Total missing images: 6870\n",
        "# Total error images (unreadable): 0"
      ]
    },
    {
      "cell_type": "code",
      "execution_count": 7,
      "metadata": {
        "colab": {
          "base_uri": "https://localhost:8080/"
        },
        "id": "IAMvG1VBT7JZ",
        "outputId": "9ef5f54a-9f79-4dcd-a815-490f6a87e2b2"
      },
      "outputs": [
        {
          "name": "stdout",
          "output_type": "stream",
          "text": [
            "PyTorch version: 2.0.0+cu117\n",
            "CUDA available: True\n",
            "CUDA version: 11.7\n",
            "GPU: NVIDIA GeForce RTX 4070\n"
          ]
        }
      ],
      "source": [
        "# Print PyTorch and CUDA details\n",
        "print(\"PyTorch version:\", torch.__version__)\n",
        "print(\"CUDA available:\", torch.cuda.is_available())\n",
        "print(\"CUDA version:\", torch.version.cuda)\n",
        "print(\"GPU:\", torch.cuda.get_device_name(0))\n",
        "\n",
        "# Install dependencies from requirements.txt\n",
        "# !pip install -r /content/FL_AV/requirements.txt"
      ]
    },
    {
      "cell_type": "code",
      "execution_count": 8,
      "metadata": {
        "colab": {
          "base_uri": "https://localhost:8080/"
        },
        "id": "urdBfuohUppl",
        "outputId": "4506c5cd-3fdb-495e-c5b6-81db21167ae0"
      },
      "outputs": [],
      "source": [
        "# cd /content/FL_AV/my-project/"
      ]
    },
    {
      "cell_type": "markdown",
      "metadata": {},
      "source": []
    },
    {
      "cell_type": "code",
      "execution_count": 9,
      "metadata": {
        "id": "Lnqz0I8GW_J1"
      },
      "outputs": [
        {
          "name": "stdout",
          "output_type": "stream",
          "text": [
            "Requirement already satisfied: torch in c:\\users\\sathish\\anaconda3\\envs\\flower_test\\lib\\site-packages (2.0.0+cu117)\n",
            "Requirement already satisfied: torchvision in c:\\users\\sathish\\anaconda3\\envs\\flower_test\\lib\\site-packages (0.15.0+cu117)\n",
            "Requirement already satisfied: filelock in c:\\users\\sathish\\anaconda3\\envs\\flower_test\\lib\\site-packages (from torch) (3.17.0)\n",
            "Requirement already satisfied: typing-extensions in c:\\users\\sathish\\anaconda3\\envs\\flower_test\\lib\\site-packages (from torch) (4.12.2)\n",
            "Requirement already satisfied: sympy in c:\\users\\sathish\\anaconda3\\envs\\flower_test\\lib\\site-packages (from torch) (1.13.1)\n",
            "Requirement already satisfied: networkx in c:\\users\\sathish\\anaconda3\\envs\\flower_test\\lib\\site-packages (from torch) (3.4.2)\n",
            "Requirement already satisfied: jinja2 in c:\\users\\sathish\\anaconda3\\envs\\flower_test\\lib\\site-packages (from torch) (3.1.5)\n",
            "Requirement already satisfied: numpy in c:\\users\\sathish\\anaconda3\\envs\\flower_test\\lib\\site-packages (from torchvision) (2.0.2)\n",
            "Requirement already satisfied: requests in c:\\users\\sathish\\anaconda3\\envs\\flower_test\\lib\\site-packages (from torchvision) (2.32.3)\n",
            "Requirement already satisfied: pillow!=8.3.*,>=5.3.0 in c:\\users\\sathish\\anaconda3\\envs\\flower_test\\lib\\site-packages (from torchvision) (11.1.0)\n",
            "Requirement already satisfied: MarkupSafe>=2.0 in c:\\users\\sathish\\anaconda3\\envs\\flower_test\\lib\\site-packages (from jinja2->torch) (3.0.2)\n",
            "Requirement already satisfied: charset-normalizer<4,>=2 in c:\\users\\sathish\\anaconda3\\envs\\flower_test\\lib\\site-packages (from requests->torchvision) (3.4.1)\n",
            "Requirement already satisfied: idna<4,>=2.5 in c:\\users\\sathish\\anaconda3\\envs\\flower_test\\lib\\site-packages (from requests->torchvision) (3.10)\n",
            "Requirement already satisfied: urllib3<3,>=1.21.1 in c:\\users\\sathish\\anaconda3\\envs\\flower_test\\lib\\site-packages (from requests->torchvision) (2.3.0)\n",
            "Requirement already satisfied: certifi>=2017.4.17 in c:\\users\\sathish\\anaconda3\\envs\\flower_test\\lib\\site-packages (from requests->torchvision) (2025.1.31)\n",
            "Requirement already satisfied: mpmath<1.4,>=1.1.0 in c:\\users\\sathish\\anaconda3\\envs\\flower_test\\lib\\site-packages (from sympy->torch) (1.3.0)\n",
            "Note: you may need to restart the kernel to use updated packages.\n"
          ]
        }
      ],
      "source": [
        "# !pip uninstall -y torch torchvision\n",
        "%pip install --no-cache-dir torch torchvision\n"
      ]
    },
    {
      "cell_type": "code",
      "execution_count": null,
      "metadata": {
        "id": "CYrvuzIUYSDD"
      },
      "outputs": [],
      "source": [
        "# pip uninstall -y torch torchvision\n",
        "# pip install torch==2.0.0 torchvision==0.15.0+cu117 --index-url https://download.pytorch.org/whl/cu117\n"
      ]
    },
    {
      "cell_type": "code",
      "execution_count": 11,
      "metadata": {
        "colab": {
          "base_uri": "https://localhost:8080/"
        },
        "id": "FeMbAFzUUsVD",
        "outputId": "5828a03d-f35e-4e2d-ba1b-26f335662da1"
      },
      "outputs": [],
      "source": [
        "# !pip install -e ."
      ]
    },
    {
      "cell_type": "code",
      "execution_count": 12,
      "metadata": {
        "id": "nnXw8Z6At1vI"
      },
      "outputs": [],
      "source": [
        "# !pip freeze   > /content/FL_AV/Research_docs/installations/requirements_history/requirements_history.txt"
      ]
    },
    {
      "cell_type": "code",
      "execution_count": null,
      "metadata": {
        "colab": {
          "base_uri": "https://localhost:8080/"
        },
        "id": "fAiimQx6uPGg",
        "outputId": "52672214-1538-48f1-bd3d-e8490b3457e9"
      },
      "outputs": [],
      "source": [
        "# cd /content/FL_AV/my-project/"
      ]
    },
    {
      "cell_type": "code",
      "execution_count": null,
      "metadata": {
        "id": "mcsmtBW6UVBA"
      },
      "outputs": [],
      "source": []
    }
  ],
  "metadata": {
    "accelerator": "GPU",
    "colab": {
      "authorship_tag": "ABX9TyOxD7CDH+q4ceXaToUpwQHx",
      "gpuType": "T4",
      "include_colab_link": true,
      "provenance": []
    },
    "kernelspec": {
      "display_name": "flower_test",
      "language": "python",
      "name": "python3"
    },
    "language_info": {
      "codemirror_mode": {
        "name": "ipython",
        "version": 3
      },
      "file_extension": ".py",
      "mimetype": "text/x-python",
      "name": "python",
      "nbconvert_exporter": "python",
      "pygments_lexer": "ipython3",
      "version": "3.10.6"
    }
  },
  "nbformat": 4,
  "nbformat_minor": 0
}
